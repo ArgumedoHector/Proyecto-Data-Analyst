{
 "cells": [
  {
   "cell_type": "code",
   "execution_count": 1,
   "metadata": {},
   "outputs": [],
   "source": [
    "import pandas as pd\n",
    "import numpy as np"
   ]
  },
  {
   "attachments": {},
   "cell_type": "markdown",
   "metadata": {},
   "source": [
    "## Se procede a la carga de los archivos CSV y se procede con el EDA"
   ]
  },
  {
   "cell_type": "code",
   "execution_count": 2,
   "metadata": {},
   "outputs": [],
   "source": [
    "Penetración_de_Internet_fijo_cada_100_hogares=pd.read_csv('https://datosabiertos.enacom.gob.ar/rest/datastreams/275028/data.csv')"
   ]
  },
  {
   "cell_type": "code",
   "execution_count": 3,
   "metadata": {},
   "outputs": [
    {
     "data": {
      "text/html": [
       "<div>\n",
       "<style scoped>\n",
       "    .dataframe tbody tr th:only-of-type {\n",
       "        vertical-align: middle;\n",
       "    }\n",
       "\n",
       "    .dataframe tbody tr th {\n",
       "        vertical-align: top;\n",
       "    }\n",
       "\n",
       "    .dataframe thead th {\n",
       "        text-align: right;\n",
       "    }\n",
       "</style>\n",
       "<table border=\"1\" class=\"dataframe\">\n",
       "  <thead>\n",
       "    <tr style=\"text-align: right;\">\n",
       "      <th></th>\n",
       "      <th>Año</th>\n",
       "      <th>Trimestre</th>\n",
       "      <th>Provincia</th>\n",
       "      <th>Accesos por cada 100 hogares</th>\n",
       "    </tr>\n",
       "  </thead>\n",
       "  <tbody>\n",
       "    <tr>\n",
       "      <th>0</th>\n",
       "      <td>2022</td>\n",
       "      <td>2</td>\n",
       "      <td>Buenos Aires</td>\n",
       "      <td>77,58</td>\n",
       "    </tr>\n",
       "    <tr>\n",
       "      <th>1</th>\n",
       "      <td>2022</td>\n",
       "      <td>2</td>\n",
       "      <td>Capital Federal</td>\n",
       "      <td>121,31</td>\n",
       "    </tr>\n",
       "    <tr>\n",
       "      <th>2</th>\n",
       "      <td>2022</td>\n",
       "      <td>2</td>\n",
       "      <td>Catamarca</td>\n",
       "      <td>62,4</td>\n",
       "    </tr>\n",
       "    <tr>\n",
       "      <th>3</th>\n",
       "      <td>2022</td>\n",
       "      <td>2</td>\n",
       "      <td>Chaco</td>\n",
       "      <td>43,79</td>\n",
       "    </tr>\n",
       "    <tr>\n",
       "      <th>4</th>\n",
       "      <td>2022</td>\n",
       "      <td>2</td>\n",
       "      <td>Chubut</td>\n",
       "      <td>83,19</td>\n",
       "    </tr>\n",
       "    <tr>\n",
       "      <th>...</th>\n",
       "      <td>...</td>\n",
       "      <td>...</td>\n",
       "      <td>...</td>\n",
       "      <td>...</td>\n",
       "    </tr>\n",
       "    <tr>\n",
       "      <th>811</th>\n",
       "      <td>2014</td>\n",
       "      <td>1</td>\n",
       "      <td>Santa Cruz</td>\n",
       "      <td>28,94</td>\n",
       "    </tr>\n",
       "    <tr>\n",
       "      <th>812</th>\n",
       "      <td>2014</td>\n",
       "      <td>1</td>\n",
       "      <td>Santa Fe</td>\n",
       "      <td>47,85</td>\n",
       "    </tr>\n",
       "    <tr>\n",
       "      <th>813</th>\n",
       "      <td>2014</td>\n",
       "      <td>1</td>\n",
       "      <td>Santiago Del Estero</td>\n",
       "      <td>16,31</td>\n",
       "    </tr>\n",
       "    <tr>\n",
       "      <th>814</th>\n",
       "      <td>2014</td>\n",
       "      <td>1</td>\n",
       "      <td>Tierra Del Fuego</td>\n",
       "      <td>63,97</td>\n",
       "    </tr>\n",
       "    <tr>\n",
       "      <th>815</th>\n",
       "      <td>2014</td>\n",
       "      <td>1</td>\n",
       "      <td>Tucumán</td>\n",
       "      <td>33,42</td>\n",
       "    </tr>\n",
       "  </tbody>\n",
       "</table>\n",
       "<p>816 rows × 4 columns</p>\n",
       "</div>"
      ],
      "text/plain": [
       "      Año  Trimestre            Provincia Accesos por cada 100 hogares\n",
       "0    2022          2         Buenos Aires                        77,58\n",
       "1    2022          2      Capital Federal                       121,31\n",
       "2    2022          2            Catamarca                         62,4\n",
       "3    2022          2                Chaco                        43,79\n",
       "4    2022          2               Chubut                        83,19\n",
       "..    ...        ...                  ...                          ...\n",
       "811  2014          1           Santa Cruz                        28,94\n",
       "812  2014          1             Santa Fe                        47,85\n",
       "813  2014          1  Santiago Del Estero                        16,31\n",
       "814  2014          1     Tierra Del Fuego                        63,97\n",
       "815  2014          1              Tucumán                        33,42\n",
       "\n",
       "[816 rows x 4 columns]"
      ]
     },
     "execution_count": 3,
     "metadata": {},
     "output_type": "execute_result"
    }
   ],
   "source": [
    "Penetración_de_Internet_fijo_cada_100_hogares"
   ]
  },
  {
   "cell_type": "code",
   "execution_count": 4,
   "metadata": {},
   "outputs": [
    {
     "name": "stdout",
     "output_type": "stream",
     "text": [
      "<class 'pandas.core.frame.DataFrame'>\n",
      "RangeIndex: 816 entries, 0 to 815\n",
      "Data columns (total 4 columns):\n",
      " #   Column                        Non-Null Count  Dtype \n",
      "---  ------                        --------------  ----- \n",
      " 0   Año                           816 non-null    int64 \n",
      " 1   Trimestre                     816 non-null    int64 \n",
      " 2   Provincia                     816 non-null    object\n",
      " 3   Accesos por cada 100 hogares  816 non-null    object\n",
      "dtypes: int64(2), object(2)\n",
      "memory usage: 25.6+ KB\n"
     ]
    }
   ],
   "source": [
    "Penetración_de_Internet_fijo_cada_100_hogares.info()"
   ]
  },
  {
   "cell_type": "code",
   "execution_count": 5,
   "metadata": {},
   "outputs": [
    {
     "data": {
      "text/html": [
       "<div>\n",
       "<style scoped>\n",
       "    .dataframe tbody tr th:only-of-type {\n",
       "        vertical-align: middle;\n",
       "    }\n",
       "\n",
       "    .dataframe tbody tr th {\n",
       "        vertical-align: top;\n",
       "    }\n",
       "\n",
       "    .dataframe thead th {\n",
       "        text-align: right;\n",
       "    }\n",
       "</style>\n",
       "<table border=\"1\" class=\"dataframe\">\n",
       "  <thead>\n",
       "    <tr style=\"text-align: right;\">\n",
       "      <th></th>\n",
       "      <th>Año</th>\n",
       "      <th>Trimestre</th>\n",
       "    </tr>\n",
       "  </thead>\n",
       "  <tbody>\n",
       "    <tr>\n",
       "      <th>count</th>\n",
       "      <td>816.000000</td>\n",
       "      <td>816.000000</td>\n",
       "    </tr>\n",
       "    <tr>\n",
       "      <th>mean</th>\n",
       "      <td>2017.764706</td>\n",
       "      <td>2.441176</td>\n",
       "    </tr>\n",
       "    <tr>\n",
       "      <th>std</th>\n",
       "      <td>2.463681</td>\n",
       "      <td>1.117170</td>\n",
       "    </tr>\n",
       "    <tr>\n",
       "      <th>min</th>\n",
       "      <td>2014.000000</td>\n",
       "      <td>1.000000</td>\n",
       "    </tr>\n",
       "    <tr>\n",
       "      <th>25%</th>\n",
       "      <td>2016.000000</td>\n",
       "      <td>1.000000</td>\n",
       "    </tr>\n",
       "    <tr>\n",
       "      <th>50%</th>\n",
       "      <td>2018.000000</td>\n",
       "      <td>2.000000</td>\n",
       "    </tr>\n",
       "    <tr>\n",
       "      <th>75%</th>\n",
       "      <td>2020.000000</td>\n",
       "      <td>3.000000</td>\n",
       "    </tr>\n",
       "    <tr>\n",
       "      <th>max</th>\n",
       "      <td>2022.000000</td>\n",
       "      <td>4.000000</td>\n",
       "    </tr>\n",
       "  </tbody>\n",
       "</table>\n",
       "</div>"
      ],
      "text/plain": [
       "               Año   Trimestre\n",
       "count   816.000000  816.000000\n",
       "mean   2017.764706    2.441176\n",
       "std       2.463681    1.117170\n",
       "min    2014.000000    1.000000\n",
       "25%    2016.000000    1.000000\n",
       "50%    2018.000000    2.000000\n",
       "75%    2020.000000    3.000000\n",
       "max    2022.000000    4.000000"
      ]
     },
     "execution_count": 5,
     "metadata": {},
     "output_type": "execute_result"
    }
   ],
   "source": [
    "Penetración_de_Internet_fijo_cada_100_hogares.describe()"
   ]
  },
  {
   "cell_type": "code",
   "execution_count": 6,
   "metadata": {},
   "outputs": [
    {
     "data": {
      "text/plain": [
       "Año                               9\n",
       "Trimestre                         4\n",
       "Provincia                        24\n",
       "Accesos por cada 100 hogares    755\n",
       "dtype: int64"
      ]
     },
     "execution_count": 6,
     "metadata": {},
     "output_type": "execute_result"
    }
   ],
   "source": [
    "Penetración_de_Internet_fijo_cada_100_hogares.nunique()"
   ]
  },
  {
   "cell_type": "code",
   "execution_count": 7,
   "metadata": {},
   "outputs": [
    {
     "data": {
      "text/plain": [
       "Año                             0\n",
       "Trimestre                       0\n",
       "Provincia                       0\n",
       "Accesos por cada 100 hogares    0\n",
       "dtype: int64"
      ]
     },
     "execution_count": 7,
     "metadata": {},
     "output_type": "execute_result"
    }
   ],
   "source": [
    "Penetración_de_Internet_fijo_cada_100_hogares.isnull().sum()"
   ]
  },
  {
   "cell_type": "code",
   "execution_count": 8,
   "metadata": {},
   "outputs": [],
   "source": [
    "#Penetración_por_hogares_nacional_de_internet_fijo=pd.read_csv('https://datosabiertos.enacom.gob.ar/rest/datastreams/281491/data.csv')"
   ]
  },
  {
   "cell_type": "code",
   "execution_count": 9,
   "metadata": {},
   "outputs": [],
   "source": [
    "#Penetración_por_hogares_nacional_de_internet_fijo"
   ]
  },
  {
   "cell_type": "code",
   "execution_count": 10,
   "metadata": {},
   "outputs": [],
   "source": [
    "#Total_nacional_de_accesos_a_internet_fijo_por_banda_ancha_y_angosta=pd.read_csv('https://datosabiertos.enacom.gob.ar/rest/datastreams/255799/data.csv')"
   ]
  },
  {
   "cell_type": "code",
   "execution_count": 11,
   "metadata": {},
   "outputs": [],
   "source": [
    "#Total_nacional_de_accesos_a_internet_fijo_por_banda_ancha_y_angosta"
   ]
  },
  {
   "cell_type": "code",
   "execution_count": 12,
   "metadata": {},
   "outputs": [],
   "source": [
    "#Accesos_a_banda_ancha_y_angosta_por_provincia=pd.read_csv('https://datosabiertos.enacom.gob.ar/rest/datastreams/275020/data.csv')"
   ]
  },
  {
   "cell_type": "code",
   "execution_count": 13,
   "metadata": {},
   "outputs": [],
   "source": [
    "#Accesos_a_banda_ancha_y_angosta_por_provincia"
   ]
  },
  {
   "cell_type": "code",
   "execution_count": 14,
   "metadata": {},
   "outputs": [],
   "source": [
    "#Serie_trimestral_de_accesos_a_internet_fijo_por_tecnologia=pd.read_csv('https://datosabiertos.enacom.gob.ar/rest/datastreams/275029/data.csv')"
   ]
  },
  {
   "cell_type": "code",
   "execution_count": 15,
   "metadata": {},
   "outputs": [],
   "source": [
    "#Serie_trimestral_de_accesos_a_internet_fijo_por_tecnologia"
   ]
  },
  {
   "cell_type": "code",
   "execution_count": 158,
   "metadata": {},
   "outputs": [],
   "source": [
    "Acceso_a_Internet_fijo_por_tecnología_y_provincia=pd.read_csv('https://datosabiertos.enacom.gob.ar/rest/datastreams/255796/data.csv', thousands='.')"
   ]
  },
  {
   "cell_type": "code",
   "execution_count": 159,
   "metadata": {},
   "outputs": [
    {
     "data": {
      "text/html": [
       "<div>\n",
       "<style scoped>\n",
       "    .dataframe tbody tr th:only-of-type {\n",
       "        vertical-align: middle;\n",
       "    }\n",
       "\n",
       "    .dataframe tbody tr th {\n",
       "        vertical-align: top;\n",
       "    }\n",
       "\n",
       "    .dataframe thead th {\n",
       "        text-align: right;\n",
       "    }\n",
       "</style>\n",
       "<table border=\"1\" class=\"dataframe\">\n",
       "  <thead>\n",
       "    <tr style=\"text-align: right;\">\n",
       "      <th></th>\n",
       "      <th>Año</th>\n",
       "      <th>Trimestre</th>\n",
       "      <th>Provincia</th>\n",
       "      <th>ADSL</th>\n",
       "      <th>Cablemodem</th>\n",
       "      <th>Fibra óptica</th>\n",
       "      <th>Wireless</th>\n",
       "      <th>Otros</th>\n",
       "      <th>Total</th>\n",
       "    </tr>\n",
       "  </thead>\n",
       "  <tbody>\n",
       "    <tr>\n",
       "      <th>0</th>\n",
       "      <td>2022</td>\n",
       "      <td>2</td>\n",
       "      <td>Buenos Aires</td>\n",
       "      <td>350652.0</td>\n",
       "      <td>2719613.0</td>\n",
       "      <td>1399043.0</td>\n",
       "      <td>126847.0</td>\n",
       "      <td>71028.0</td>\n",
       "      <td>4667183.0</td>\n",
       "    </tr>\n",
       "    <tr>\n",
       "      <th>1</th>\n",
       "      <td>2022</td>\n",
       "      <td>2</td>\n",
       "      <td>Capital Federal</td>\n",
       "      <td>145491.0</td>\n",
       "      <td>1232226.0</td>\n",
       "      <td>121506.0</td>\n",
       "      <td>5757.0</td>\n",
       "      <td>31791.0</td>\n",
       "      <td>1536771.0</td>\n",
       "    </tr>\n",
       "    <tr>\n",
       "      <th>2</th>\n",
       "      <td>2022</td>\n",
       "      <td>2</td>\n",
       "      <td>Catamarca</td>\n",
       "      <td>11928.0</td>\n",
       "      <td>9430.0</td>\n",
       "      <td>42087.0</td>\n",
       "      <td>1329.0</td>\n",
       "      <td>2234.0</td>\n",
       "      <td>67008.0</td>\n",
       "    </tr>\n",
       "    <tr>\n",
       "      <th>3</th>\n",
       "      <td>2022</td>\n",
       "      <td>2</td>\n",
       "      <td>Chaco</td>\n",
       "      <td>29552.0</td>\n",
       "      <td>61284.0</td>\n",
       "      <td>42194.0</td>\n",
       "      <td>8178.0</td>\n",
       "      <td>2356.0</td>\n",
       "      <td>143564.0</td>\n",
       "    </tr>\n",
       "    <tr>\n",
       "      <th>4</th>\n",
       "      <td>2022</td>\n",
       "      <td>2</td>\n",
       "      <td>Chubut</td>\n",
       "      <td>45377.0</td>\n",
       "      <td>69242.0</td>\n",
       "      <td>9574.0</td>\n",
       "      <td>29784.0</td>\n",
       "      <td>8828.0</td>\n",
       "      <td>162805.0</td>\n",
       "    </tr>\n",
       "    <tr>\n",
       "      <th>...</th>\n",
       "      <td>...</td>\n",
       "      <td>...</td>\n",
       "      <td>...</td>\n",
       "      <td>...</td>\n",
       "      <td>...</td>\n",
       "      <td>...</td>\n",
       "      <td>...</td>\n",
       "      <td>...</td>\n",
       "      <td>...</td>\n",
       "    </tr>\n",
       "    <tr>\n",
       "      <th>812</th>\n",
       "      <td>2014</td>\n",
       "      <td>1</td>\n",
       "      <td>Santa Fe</td>\n",
       "      <td>322662.0</td>\n",
       "      <td>174296.0</td>\n",
       "      <td>3059.0</td>\n",
       "      <td>5951.0</td>\n",
       "      <td>644.0</td>\n",
       "      <td>506612.0</td>\n",
       "    </tr>\n",
       "    <tr>\n",
       "      <th>813</th>\n",
       "      <td>2014</td>\n",
       "      <td>1</td>\n",
       "      <td>Santiago Del Estero</td>\n",
       "      <td>32567.0</td>\n",
       "      <td>3598.0</td>\n",
       "      <td>19.0</td>\n",
       "      <td>915.0</td>\n",
       "      <td>34.0</td>\n",
       "      <td>37133.0</td>\n",
       "    </tr>\n",
       "    <tr>\n",
       "      <th>814</th>\n",
       "      <td>2014</td>\n",
       "      <td>1</td>\n",
       "      <td>Tierra Del Fuego</td>\n",
       "      <td>21618.0</td>\n",
       "      <td>2837.0</td>\n",
       "      <td>648.0</td>\n",
       "      <td>1.0</td>\n",
       "      <td>2934.0</td>\n",
       "      <td>28038.0</td>\n",
       "    </tr>\n",
       "    <tr>\n",
       "      <th>815</th>\n",
       "      <td>2014</td>\n",
       "      <td>1</td>\n",
       "      <td>Tucumán</td>\n",
       "      <td>129717.0</td>\n",
       "      <td>83.0</td>\n",
       "      <td>121.0</td>\n",
       "      <td>13.0</td>\n",
       "      <td>98.0</td>\n",
       "      <td>130032.0</td>\n",
       "    </tr>\n",
       "    <tr>\n",
       "      <th>816</th>\n",
       "      <td>*</td>\n",
       "      <td>Los datos provinciales no coinciden a nivel na...</td>\n",
       "      <td>NaN</td>\n",
       "      <td>NaN</td>\n",
       "      <td>NaN</td>\n",
       "      <td>NaN</td>\n",
       "      <td>NaN</td>\n",
       "      <td>NaN</td>\n",
       "      <td>NaN</td>\n",
       "    </tr>\n",
       "  </tbody>\n",
       "</table>\n",
       "<p>817 rows × 9 columns</p>\n",
       "</div>"
      ],
      "text/plain": [
       "      Año                                          Trimestre  \\\n",
       "0    2022                                                  2   \n",
       "1    2022                                                  2   \n",
       "2    2022                                                  2   \n",
       "3    2022                                                  2   \n",
       "4    2022                                                  2   \n",
       "..    ...                                                ...   \n",
       "812  2014                                                  1   \n",
       "813  2014                                                  1   \n",
       "814  2014                                                  1   \n",
       "815  2014                                                  1   \n",
       "816     *  Los datos provinciales no coinciden a nivel na...   \n",
       "\n",
       "               Provincia      ADSL  Cablemodem  Fibra óptica  Wireless  \\\n",
       "0           Buenos Aires  350652.0   2719613.0     1399043.0  126847.0   \n",
       "1        Capital Federal  145491.0   1232226.0      121506.0    5757.0   \n",
       "2              Catamarca   11928.0      9430.0       42087.0    1329.0   \n",
       "3                  Chaco   29552.0     61284.0       42194.0    8178.0   \n",
       "4                 Chubut   45377.0     69242.0        9574.0   29784.0   \n",
       "..                   ...       ...         ...           ...       ...   \n",
       "812             Santa Fe  322662.0    174296.0        3059.0    5951.0   \n",
       "813  Santiago Del Estero   32567.0      3598.0          19.0     915.0   \n",
       "814     Tierra Del Fuego   21618.0      2837.0         648.0       1.0   \n",
       "815              Tucumán  129717.0        83.0         121.0      13.0   \n",
       "816                  NaN       NaN         NaN           NaN       NaN   \n",
       "\n",
       "       Otros      Total  \n",
       "0    71028.0  4667183.0  \n",
       "1    31791.0  1536771.0  \n",
       "2     2234.0    67008.0  \n",
       "3     2356.0   143564.0  \n",
       "4     8828.0   162805.0  \n",
       "..       ...        ...  \n",
       "812    644.0   506612.0  \n",
       "813     34.0    37133.0  \n",
       "814   2934.0    28038.0  \n",
       "815     98.0   130032.0  \n",
       "816      NaN        NaN  \n",
       "\n",
       "[817 rows x 9 columns]"
      ]
     },
     "execution_count": 159,
     "metadata": {},
     "output_type": "execute_result"
    }
   ],
   "source": [
    "Acceso_a_Internet_fijo_por_tecnología_y_provincia"
   ]
  },
  {
   "cell_type": "code",
   "execution_count": 160,
   "metadata": {},
   "outputs": [
    {
     "name": "stdout",
     "output_type": "stream",
     "text": [
      "<class 'pandas.core.frame.DataFrame'>\n",
      "RangeIndex: 817 entries, 0 to 816\n",
      "Data columns (total 9 columns):\n",
      " #   Column        Non-Null Count  Dtype  \n",
      "---  ------        --------------  -----  \n",
      " 0   Año           817 non-null    object \n",
      " 1   Trimestre     817 non-null    object \n",
      " 2   Provincia     816 non-null    object \n",
      " 3   ADSL          816 non-null    float64\n",
      " 4   Cablemodem    816 non-null    float64\n",
      " 5   Fibra óptica  816 non-null    float64\n",
      " 6   Wireless      816 non-null    float64\n",
      " 7   Otros         816 non-null    float64\n",
      " 8   Total         816 non-null    float64\n",
      "dtypes: float64(6), object(3)\n",
      "memory usage: 57.6+ KB\n"
     ]
    }
   ],
   "source": [
    "Acceso_a_Internet_fijo_por_tecnología_y_provincia.info()"
   ]
  },
  {
   "cell_type": "code",
   "execution_count": 161,
   "metadata": {},
   "outputs": [
    {
     "data": {
      "text/html": [
       "<div>\n",
       "<style scoped>\n",
       "    .dataframe tbody tr th:only-of-type {\n",
       "        vertical-align: middle;\n",
       "    }\n",
       "\n",
       "    .dataframe tbody tr th {\n",
       "        vertical-align: top;\n",
       "    }\n",
       "\n",
       "    .dataframe thead th {\n",
       "        text-align: right;\n",
       "    }\n",
       "</style>\n",
       "<table border=\"1\" class=\"dataframe\">\n",
       "  <thead>\n",
       "    <tr style=\"text-align: right;\">\n",
       "      <th></th>\n",
       "      <th>ADSL</th>\n",
       "      <th>Cablemodem</th>\n",
       "      <th>Fibra óptica</th>\n",
       "      <th>Wireless</th>\n",
       "      <th>Otros</th>\n",
       "      <th>Total</th>\n",
       "    </tr>\n",
       "  </thead>\n",
       "  <tbody>\n",
       "    <tr>\n",
       "      <th>count</th>\n",
       "      <td>8.160000e+02</td>\n",
       "      <td>8.160000e+02</td>\n",
       "      <td>8.160000e+02</td>\n",
       "      <td>816.000000</td>\n",
       "      <td>816.000000</td>\n",
       "      <td>8.160000e+02</td>\n",
       "    </tr>\n",
       "    <tr>\n",
       "      <th>mean</th>\n",
       "      <td>1.296089e+05</td>\n",
       "      <td>1.694351e+05</td>\n",
       "      <td>2.727258e+04</td>\n",
       "      <td>9966.533088</td>\n",
       "      <td>6035.365196</td>\n",
       "      <td>3.423185e+05</td>\n",
       "    </tr>\n",
       "    <tr>\n",
       "      <th>std</th>\n",
       "      <td>2.581730e+05</td>\n",
       "      <td>4.164050e+05</td>\n",
       "      <td>1.142498e+05</td>\n",
       "      <td>17681.393605</td>\n",
       "      <td>10404.500505</td>\n",
       "      <td>7.344088e+05</td>\n",
       "    </tr>\n",
       "    <tr>\n",
       "      <th>min</th>\n",
       "      <td>6.860000e+03</td>\n",
       "      <td>0.000000e+00</td>\n",
       "      <td>0.000000e+00</td>\n",
       "      <td>0.000000</td>\n",
       "      <td>2.000000</td>\n",
       "      <td>1.255700e+04</td>\n",
       "    </tr>\n",
       "    <tr>\n",
       "      <th>25%</th>\n",
       "      <td>2.263175e+04</td>\n",
       "      <td>8.070500e+03</td>\n",
       "      <td>1.622500e+02</td>\n",
       "      <td>252.000000</td>\n",
       "      <td>209.500000</td>\n",
       "      <td>5.196800e+04</td>\n",
       "    </tr>\n",
       "    <tr>\n",
       "      <th>50%</th>\n",
       "      <td>4.867000e+04</td>\n",
       "      <td>3.485300e+04</td>\n",
       "      <td>1.038500e+03</td>\n",
       "      <td>4078.000000</td>\n",
       "      <td>1763.000000</td>\n",
       "      <td>1.019765e+05</td>\n",
       "    </tr>\n",
       "    <tr>\n",
       "      <th>75%</th>\n",
       "      <td>1.071895e+05</td>\n",
       "      <td>6.986300e+04</td>\n",
       "      <td>1.212400e+04</td>\n",
       "      <td>12286.000000</td>\n",
       "      <td>6729.000000</td>\n",
       "      <td>1.728680e+05</td>\n",
       "    </tr>\n",
       "    <tr>\n",
       "      <th>max</th>\n",
       "      <td>1.586343e+06</td>\n",
       "      <td>2.728865e+06</td>\n",
       "      <td>1.399043e+06</td>\n",
       "      <td>126887.000000</td>\n",
       "      <td>73415.000000</td>\n",
       "      <td>4.667183e+06</td>\n",
       "    </tr>\n",
       "  </tbody>\n",
       "</table>\n",
       "</div>"
      ],
      "text/plain": [
       "               ADSL    Cablemodem  Fibra óptica       Wireless         Otros  \\\n",
       "count  8.160000e+02  8.160000e+02  8.160000e+02     816.000000    816.000000   \n",
       "mean   1.296089e+05  1.694351e+05  2.727258e+04    9966.533088   6035.365196   \n",
       "std    2.581730e+05  4.164050e+05  1.142498e+05   17681.393605  10404.500505   \n",
       "min    6.860000e+03  0.000000e+00  0.000000e+00       0.000000      2.000000   \n",
       "25%    2.263175e+04  8.070500e+03  1.622500e+02     252.000000    209.500000   \n",
       "50%    4.867000e+04  3.485300e+04  1.038500e+03    4078.000000   1763.000000   \n",
       "75%    1.071895e+05  6.986300e+04  1.212400e+04   12286.000000   6729.000000   \n",
       "max    1.586343e+06  2.728865e+06  1.399043e+06  126887.000000  73415.000000   \n",
       "\n",
       "              Total  \n",
       "count  8.160000e+02  \n",
       "mean   3.423185e+05  \n",
       "std    7.344088e+05  \n",
       "min    1.255700e+04  \n",
       "25%    5.196800e+04  \n",
       "50%    1.019765e+05  \n",
       "75%    1.728680e+05  \n",
       "max    4.667183e+06  "
      ]
     },
     "execution_count": 161,
     "metadata": {},
     "output_type": "execute_result"
    }
   ],
   "source": [
    "Acceso_a_Internet_fijo_por_tecnología_y_provincia.describe()"
   ]
  },
  {
   "cell_type": "code",
   "execution_count": 162,
   "metadata": {},
   "outputs": [
    {
     "data": {
      "text/plain": [
       "Año              11\n",
       "Trimestre         8\n",
       "Provincia        24\n",
       "ADSL            730\n",
       "Cablemodem      705\n",
       "Fibra óptica    573\n",
       "Wireless        581\n",
       "Otros           546\n",
       "Total           807\n",
       "dtype: int64"
      ]
     },
     "execution_count": 162,
     "metadata": {},
     "output_type": "execute_result"
    }
   ],
   "source": [
    "Acceso_a_Internet_fijo_por_tecnología_y_provincia.nunique()"
   ]
  },
  {
   "cell_type": "code",
   "execution_count": 163,
   "metadata": {},
   "outputs": [
    {
     "data": {
      "text/plain": [
       "Año             0\n",
       "Trimestre       0\n",
       "Provincia       1\n",
       "ADSL            1\n",
       "Cablemodem      1\n",
       "Fibra óptica    1\n",
       "Wireless        1\n",
       "Otros           1\n",
       "Total           1\n",
       "dtype: int64"
      ]
     },
     "execution_count": 163,
     "metadata": {},
     "output_type": "execute_result"
    }
   ],
   "source": [
    "Acceso_a_Internet_fijo_por_tecnología_y_provincia.isnull().sum()"
   ]
  },
  {
   "cell_type": "code",
   "execution_count": 164,
   "metadata": {},
   "outputs": [],
   "source": [
    "\n",
    "#se elimina el unico registro nulo ya que solo tenia datos de fecha y trimestre, y ningun dato mas que sirva para la utilizacion de los datos\n",
    "Acceso_a_Internet_fijo_por_tecnología_y_provincia.dropna(inplace=True)  "
   ]
  },
  {
   "cell_type": "code",
   "execution_count": 165,
   "metadata": {},
   "outputs": [],
   "source": [
    "#se limpian los * que aparecen en la columna Año\n",
    "Acceso_a_Internet_fijo_por_tecnología_y_provincia.Año.replace('\\D','',regex=True, inplace=True)"
   ]
  },
  {
   "cell_type": "code",
   "execution_count": 166,
   "metadata": {},
   "outputs": [],
   "source": [
    "#se limpian los * que aparecen en la columna Trimestre\n",
    "Acceso_a_Internet_fijo_por_tecnología_y_provincia.Trimestre.replace('\\D','',regex=True, inplace=True)"
   ]
  },
  {
   "cell_type": "code",
   "execution_count": 167,
   "metadata": {},
   "outputs": [],
   "source": [
    "#cambio de tipo de dato a tipo entero \n",
    "\n",
    "Acceso_a_Internet_fijo_por_tecnología_y_provincia.Año=Acceso_a_Internet_fijo_por_tecnología_y_provincia.Año.astype(int)\n",
    "Acceso_a_Internet_fijo_por_tecnología_y_provincia.Trimestre=Acceso_a_Internet_fijo_por_tecnología_y_provincia.Trimestre.astype(int)\n",
    "Acceso_a_Internet_fijo_por_tecnología_y_provincia.ADSL=Acceso_a_Internet_fijo_por_tecnología_y_provincia.ADSL.astype(int)\n",
    "Acceso_a_Internet_fijo_por_tecnología_y_provincia.Cablemodem=Acceso_a_Internet_fijo_por_tecnología_y_provincia.Cablemodem.astype(int)\n",
    "Acceso_a_Internet_fijo_por_tecnología_y_provincia['Fibra óptica']=Acceso_a_Internet_fijo_por_tecnología_y_provincia['Fibra óptica'].astype(int)\n",
    "Acceso_a_Internet_fijo_por_tecnología_y_provincia.Wireless=Acceso_a_Internet_fijo_por_tecnología_y_provincia.Wireless.astype(int)\n",
    "Acceso_a_Internet_fijo_por_tecnología_y_provincia.Otros=Acceso_a_Internet_fijo_por_tecnología_y_provincia.Otros.astype(int)\n",
    "Acceso_a_Internet_fijo_por_tecnología_y_provincia.Total=Acceso_a_Internet_fijo_por_tecnología_y_provincia.Total.astype(int)"
   ]
  },
  {
   "cell_type": "code",
   "execution_count": 168,
   "metadata": {},
   "outputs": [
    {
     "data": {
      "text/html": [
       "<div>\n",
       "<style scoped>\n",
       "    .dataframe tbody tr th:only-of-type {\n",
       "        vertical-align: middle;\n",
       "    }\n",
       "\n",
       "    .dataframe tbody tr th {\n",
       "        vertical-align: top;\n",
       "    }\n",
       "\n",
       "    .dataframe thead th {\n",
       "        text-align: right;\n",
       "    }\n",
       "</style>\n",
       "<table border=\"1\" class=\"dataframe\">\n",
       "  <thead>\n",
       "    <tr style=\"text-align: right;\">\n",
       "      <th></th>\n",
       "      <th>Año</th>\n",
       "      <th>Trimestre</th>\n",
       "      <th>Provincia</th>\n",
       "      <th>ADSL</th>\n",
       "      <th>Cablemodem</th>\n",
       "      <th>Fibra óptica</th>\n",
       "      <th>Wireless</th>\n",
       "      <th>Otros</th>\n",
       "      <th>Total</th>\n",
       "    </tr>\n",
       "  </thead>\n",
       "  <tbody>\n",
       "    <tr>\n",
       "      <th>0</th>\n",
       "      <td>2022</td>\n",
       "      <td>2</td>\n",
       "      <td>Buenos Aires</td>\n",
       "      <td>350652</td>\n",
       "      <td>2719613</td>\n",
       "      <td>1399043</td>\n",
       "      <td>126847</td>\n",
       "      <td>71028</td>\n",
       "      <td>4667183</td>\n",
       "    </tr>\n",
       "    <tr>\n",
       "      <th>1</th>\n",
       "      <td>2022</td>\n",
       "      <td>2</td>\n",
       "      <td>Capital Federal</td>\n",
       "      <td>145491</td>\n",
       "      <td>1232226</td>\n",
       "      <td>121506</td>\n",
       "      <td>5757</td>\n",
       "      <td>31791</td>\n",
       "      <td>1536771</td>\n",
       "    </tr>\n",
       "    <tr>\n",
       "      <th>2</th>\n",
       "      <td>2022</td>\n",
       "      <td>2</td>\n",
       "      <td>Catamarca</td>\n",
       "      <td>11928</td>\n",
       "      <td>9430</td>\n",
       "      <td>42087</td>\n",
       "      <td>1329</td>\n",
       "      <td>2234</td>\n",
       "      <td>67008</td>\n",
       "    </tr>\n",
       "    <tr>\n",
       "      <th>3</th>\n",
       "      <td>2022</td>\n",
       "      <td>2</td>\n",
       "      <td>Chaco</td>\n",
       "      <td>29552</td>\n",
       "      <td>61284</td>\n",
       "      <td>42194</td>\n",
       "      <td>8178</td>\n",
       "      <td>2356</td>\n",
       "      <td>143564</td>\n",
       "    </tr>\n",
       "    <tr>\n",
       "      <th>4</th>\n",
       "      <td>2022</td>\n",
       "      <td>2</td>\n",
       "      <td>Chubut</td>\n",
       "      <td>45377</td>\n",
       "      <td>69242</td>\n",
       "      <td>9574</td>\n",
       "      <td>29784</td>\n",
       "      <td>8828</td>\n",
       "      <td>162805</td>\n",
       "    </tr>\n",
       "    <tr>\n",
       "      <th>...</th>\n",
       "      <td>...</td>\n",
       "      <td>...</td>\n",
       "      <td>...</td>\n",
       "      <td>...</td>\n",
       "      <td>...</td>\n",
       "      <td>...</td>\n",
       "      <td>...</td>\n",
       "      <td>...</td>\n",
       "      <td>...</td>\n",
       "    </tr>\n",
       "    <tr>\n",
       "      <th>811</th>\n",
       "      <td>2014</td>\n",
       "      <td>1</td>\n",
       "      <td>Santa Cruz</td>\n",
       "      <td>18927</td>\n",
       "      <td>100</td>\n",
       "      <td>381</td>\n",
       "      <td>4092</td>\n",
       "      <td>3264</td>\n",
       "      <td>26764</td>\n",
       "    </tr>\n",
       "    <tr>\n",
       "      <th>812</th>\n",
       "      <td>2014</td>\n",
       "      <td>1</td>\n",
       "      <td>Santa Fe</td>\n",
       "      <td>322662</td>\n",
       "      <td>174296</td>\n",
       "      <td>3059</td>\n",
       "      <td>5951</td>\n",
       "      <td>644</td>\n",
       "      <td>506612</td>\n",
       "    </tr>\n",
       "    <tr>\n",
       "      <th>813</th>\n",
       "      <td>2014</td>\n",
       "      <td>1</td>\n",
       "      <td>Santiago Del Estero</td>\n",
       "      <td>32567</td>\n",
       "      <td>3598</td>\n",
       "      <td>19</td>\n",
       "      <td>915</td>\n",
       "      <td>34</td>\n",
       "      <td>37133</td>\n",
       "    </tr>\n",
       "    <tr>\n",
       "      <th>814</th>\n",
       "      <td>2014</td>\n",
       "      <td>1</td>\n",
       "      <td>Tierra Del Fuego</td>\n",
       "      <td>21618</td>\n",
       "      <td>2837</td>\n",
       "      <td>648</td>\n",
       "      <td>1</td>\n",
       "      <td>2934</td>\n",
       "      <td>28038</td>\n",
       "    </tr>\n",
       "    <tr>\n",
       "      <th>815</th>\n",
       "      <td>2014</td>\n",
       "      <td>1</td>\n",
       "      <td>Tucumán</td>\n",
       "      <td>129717</td>\n",
       "      <td>83</td>\n",
       "      <td>121</td>\n",
       "      <td>13</td>\n",
       "      <td>98</td>\n",
       "      <td>130032</td>\n",
       "    </tr>\n",
       "  </tbody>\n",
       "</table>\n",
       "<p>816 rows × 9 columns</p>\n",
       "</div>"
      ],
      "text/plain": [
       "      Año  Trimestre            Provincia    ADSL  Cablemodem  Fibra óptica  \\\n",
       "0    2022          2         Buenos Aires  350652     2719613       1399043   \n",
       "1    2022          2      Capital Federal  145491     1232226        121506   \n",
       "2    2022          2            Catamarca   11928        9430         42087   \n",
       "3    2022          2                Chaco   29552       61284         42194   \n",
       "4    2022          2               Chubut   45377       69242          9574   \n",
       "..    ...        ...                  ...     ...         ...           ...   \n",
       "811  2014          1           Santa Cruz   18927         100           381   \n",
       "812  2014          1             Santa Fe  322662      174296          3059   \n",
       "813  2014          1  Santiago Del Estero   32567        3598            19   \n",
       "814  2014          1     Tierra Del Fuego   21618        2837           648   \n",
       "815  2014          1              Tucumán  129717          83           121   \n",
       "\n",
       "     Wireless  Otros    Total  \n",
       "0      126847  71028  4667183  \n",
       "1        5757  31791  1536771  \n",
       "2        1329   2234    67008  \n",
       "3        8178   2356   143564  \n",
       "4       29784   8828   162805  \n",
       "..        ...    ...      ...  \n",
       "811      4092   3264    26764  \n",
       "812      5951    644   506612  \n",
       "813       915     34    37133  \n",
       "814         1   2934    28038  \n",
       "815        13     98   130032  \n",
       "\n",
       "[816 rows x 9 columns]"
      ]
     },
     "execution_count": 168,
     "metadata": {},
     "output_type": "execute_result"
    }
   ],
   "source": [
    "#verificamos que los datos esten en orden\n",
    "Acceso_a_Internet_fijo_por_tecnología_y_provincia"
   ]
  },
  {
   "cell_type": "code",
   "execution_count": 23,
   "metadata": {},
   "outputs": [],
   "source": [
    "#Velocidad_Media_de_bajada_de_Internet_fijo=pd.read_csv('https://datosabiertos.enacom.gob.ar/rest/datastreams/288059/data.csv')"
   ]
  },
  {
   "cell_type": "code",
   "execution_count": 24,
   "metadata": {},
   "outputs": [],
   "source": [
    "#Velocidad_Media_de_bajada_de_Internet_fijo"
   ]
  },
  {
   "cell_type": "code",
   "execution_count": 25,
   "metadata": {},
   "outputs": [],
   "source": [
    "Velocidad_Media_de_bajada_de_Internet_fijo_por_provincia=pd.read_csv('https://datosabiertos.enacom.gob.ar/rest/datastreams/288060/data.csv')"
   ]
  },
  {
   "cell_type": "code",
   "execution_count": 26,
   "metadata": {},
   "outputs": [
    {
     "data": {
      "text/html": [
       "<div>\n",
       "<style scoped>\n",
       "    .dataframe tbody tr th:only-of-type {\n",
       "        vertical-align: middle;\n",
       "    }\n",
       "\n",
       "    .dataframe tbody tr th {\n",
       "        vertical-align: top;\n",
       "    }\n",
       "\n",
       "    .dataframe thead th {\n",
       "        text-align: right;\n",
       "    }\n",
       "</style>\n",
       "<table border=\"1\" class=\"dataframe\">\n",
       "  <thead>\n",
       "    <tr style=\"text-align: right;\">\n",
       "      <th></th>\n",
       "      <th>Año</th>\n",
       "      <th>Trimestre</th>\n",
       "      <th>Provincia</th>\n",
       "      <th>Mbps (Media de bajada)</th>\n",
       "    </tr>\n",
       "  </thead>\n",
       "  <tbody>\n",
       "    <tr>\n",
       "      <th>0</th>\n",
       "      <td>2022</td>\n",
       "      <td>1</td>\n",
       "      <td>Buenos Aires</td>\n",
       "      <td>63</td>\n",
       "    </tr>\n",
       "    <tr>\n",
       "      <th>1</th>\n",
       "      <td>2022</td>\n",
       "      <td>1</td>\n",
       "      <td>Capital Federal</td>\n",
       "      <td>88</td>\n",
       "    </tr>\n",
       "    <tr>\n",
       "      <th>2</th>\n",
       "      <td>2022</td>\n",
       "      <td>1</td>\n",
       "      <td>Catamarca</td>\n",
       "      <td>51</td>\n",
       "    </tr>\n",
       "    <tr>\n",
       "      <th>3</th>\n",
       "      <td>2022</td>\n",
       "      <td>1</td>\n",
       "      <td>Chaco</td>\n",
       "      <td>46</td>\n",
       "    </tr>\n",
       "    <tr>\n",
       "      <th>4</th>\n",
       "      <td>2022</td>\n",
       "      <td>1</td>\n",
       "      <td>Chubut</td>\n",
       "      <td>13</td>\n",
       "    </tr>\n",
       "    <tr>\n",
       "      <th>...</th>\n",
       "      <td>...</td>\n",
       "      <td>...</td>\n",
       "      <td>...</td>\n",
       "      <td>...</td>\n",
       "    </tr>\n",
       "    <tr>\n",
       "      <th>787</th>\n",
       "      <td>2014</td>\n",
       "      <td>1</td>\n",
       "      <td>Santa Cruz</td>\n",
       "      <td>3</td>\n",
       "    </tr>\n",
       "    <tr>\n",
       "      <th>788</th>\n",
       "      <td>2014</td>\n",
       "      <td>1</td>\n",
       "      <td>Santa Fe</td>\n",
       "      <td>3</td>\n",
       "    </tr>\n",
       "    <tr>\n",
       "      <th>789</th>\n",
       "      <td>2014</td>\n",
       "      <td>1</td>\n",
       "      <td>Santiago Del Estero</td>\n",
       "      <td>3</td>\n",
       "    </tr>\n",
       "    <tr>\n",
       "      <th>790</th>\n",
       "      <td>2014</td>\n",
       "      <td>1</td>\n",
       "      <td>Tierra Del Fuego</td>\n",
       "      <td>3</td>\n",
       "    </tr>\n",
       "    <tr>\n",
       "      <th>791</th>\n",
       "      <td>2014</td>\n",
       "      <td>1</td>\n",
       "      <td>Tucumán</td>\n",
       "      <td>3</td>\n",
       "    </tr>\n",
       "  </tbody>\n",
       "</table>\n",
       "<p>792 rows × 4 columns</p>\n",
       "</div>"
      ],
      "text/plain": [
       "      Año  Trimestre            Provincia  Mbps (Media de bajada)\n",
       "0    2022          1         Buenos Aires                      63\n",
       "1    2022          1      Capital Federal                      88\n",
       "2    2022          1            Catamarca                      51\n",
       "3    2022          1                Chaco                      46\n",
       "4    2022          1               Chubut                      13\n",
       "..    ...        ...                  ...                     ...\n",
       "787  2014          1           Santa Cruz                       3\n",
       "788  2014          1             Santa Fe                       3\n",
       "789  2014          1  Santiago Del Estero                       3\n",
       "790  2014          1     Tierra Del Fuego                       3\n",
       "791  2014          1              Tucumán                       3\n",
       "\n",
       "[792 rows x 4 columns]"
      ]
     },
     "execution_count": 26,
     "metadata": {},
     "output_type": "execute_result"
    }
   ],
   "source": [
    "Velocidad_Media_de_bajada_de_Internet_fijo_por_provincia"
   ]
  },
  {
   "cell_type": "code",
   "execution_count": 27,
   "metadata": {},
   "outputs": [
    {
     "name": "stdout",
     "output_type": "stream",
     "text": [
      "<class 'pandas.core.frame.DataFrame'>\n",
      "RangeIndex: 792 entries, 0 to 791\n",
      "Data columns (total 4 columns):\n",
      " #   Column                  Non-Null Count  Dtype \n",
      "---  ------                  --------------  ----- \n",
      " 0   Año                     792 non-null    int64 \n",
      " 1   Trimestre               792 non-null    int64 \n",
      " 2   Provincia               792 non-null    object\n",
      " 3   Mbps (Media de bajada)  792 non-null    int64 \n",
      "dtypes: int64(3), object(1)\n",
      "memory usage: 24.9+ KB\n"
     ]
    }
   ],
   "source": [
    "Velocidad_Media_de_bajada_de_Internet_fijo_por_provincia.info()"
   ]
  },
  {
   "cell_type": "code",
   "execution_count": 28,
   "metadata": {},
   "outputs": [
    {
     "data": {
      "text/html": [
       "<div>\n",
       "<style scoped>\n",
       "    .dataframe tbody tr th:only-of-type {\n",
       "        vertical-align: middle;\n",
       "    }\n",
       "\n",
       "    .dataframe tbody tr th {\n",
       "        vertical-align: top;\n",
       "    }\n",
       "\n",
       "    .dataframe thead th {\n",
       "        text-align: right;\n",
       "    }\n",
       "</style>\n",
       "<table border=\"1\" class=\"dataframe\">\n",
       "  <thead>\n",
       "    <tr style=\"text-align: right;\">\n",
       "      <th></th>\n",
       "      <th>Año</th>\n",
       "      <th>Trimestre</th>\n",
       "      <th>Mbps (Media de bajada)</th>\n",
       "    </tr>\n",
       "  </thead>\n",
       "  <tbody>\n",
       "    <tr>\n",
       "      <th>count</th>\n",
       "      <td>792.000000</td>\n",
       "      <td>792.000000</td>\n",
       "      <td>792.000000</td>\n",
       "    </tr>\n",
       "    <tr>\n",
       "      <th>mean</th>\n",
       "      <td>2017.636364</td>\n",
       "      <td>2.454545</td>\n",
       "      <td>12.352273</td>\n",
       "    </tr>\n",
       "    <tr>\n",
       "      <th>std</th>\n",
       "      <td>2.386030</td>\n",
       "      <td>1.131306</td>\n",
       "      <td>12.836850</td>\n",
       "    </tr>\n",
       "    <tr>\n",
       "      <th>min</th>\n",
       "      <td>2014.000000</td>\n",
       "      <td>1.000000</td>\n",
       "      <td>3.000000</td>\n",
       "    </tr>\n",
       "    <tr>\n",
       "      <th>25%</th>\n",
       "      <td>2016.000000</td>\n",
       "      <td>1.000000</td>\n",
       "      <td>4.000000</td>\n",
       "    </tr>\n",
       "    <tr>\n",
       "      <th>50%</th>\n",
       "      <td>2018.000000</td>\n",
       "      <td>2.000000</td>\n",
       "      <td>6.500000</td>\n",
       "    </tr>\n",
       "    <tr>\n",
       "      <th>75%</th>\n",
       "      <td>2020.000000</td>\n",
       "      <td>3.000000</td>\n",
       "      <td>15.000000</td>\n",
       "    </tr>\n",
       "    <tr>\n",
       "      <th>max</th>\n",
       "      <td>2022.000000</td>\n",
       "      <td>4.000000</td>\n",
       "      <td>88.000000</td>\n",
       "    </tr>\n",
       "  </tbody>\n",
       "</table>\n",
       "</div>"
      ],
      "text/plain": [
       "               Año   Trimestre  Mbps (Media de bajada)\n",
       "count   792.000000  792.000000              792.000000\n",
       "mean   2017.636364    2.454545               12.352273\n",
       "std       2.386030    1.131306               12.836850\n",
       "min    2014.000000    1.000000                3.000000\n",
       "25%    2016.000000    1.000000                4.000000\n",
       "50%    2018.000000    2.000000                6.500000\n",
       "75%    2020.000000    3.000000               15.000000\n",
       "max    2022.000000    4.000000               88.000000"
      ]
     },
     "execution_count": 28,
     "metadata": {},
     "output_type": "execute_result"
    }
   ],
   "source": [
    "Velocidad_Media_de_bajada_de_Internet_fijo_por_provincia.describe()"
   ]
  },
  {
   "cell_type": "code",
   "execution_count": 29,
   "metadata": {},
   "outputs": [
    {
     "data": {
      "text/plain": [
       "Año                        9\n",
       "Trimestre                  4\n",
       "Provincia                 24\n",
       "Mbps (Media de bajada)    60\n",
       "dtype: int64"
      ]
     },
     "execution_count": 29,
     "metadata": {},
     "output_type": "execute_result"
    }
   ],
   "source": [
    "Velocidad_Media_de_bajada_de_Internet_fijo_por_provincia.nunique()"
   ]
  },
  {
   "cell_type": "code",
   "execution_count": 30,
   "metadata": {},
   "outputs": [
    {
     "data": {
      "text/plain": [
       "Año                       0\n",
       "Trimestre                 0\n",
       "Provincia                 0\n",
       "Mbps (Media de bajada)    0\n",
       "dtype: int64"
      ]
     },
     "execution_count": 30,
     "metadata": {},
     "output_type": "execute_result"
    }
   ],
   "source": [
    "Velocidad_Media_de_bajada_de_Internet_fijo_por_provincia.isnull().sum()"
   ]
  },
  {
   "cell_type": "code",
   "execution_count": 31,
   "metadata": {},
   "outputs": [],
   "source": [
    "#Distribución_de_los_accesos_totales_nacionales_a_Internet_fijo_por_velocidad=pd.read_csv('https://datosabiertos.enacom.gob.ar/rest/datastreams/280921/data.csv')"
   ]
  },
  {
   "cell_type": "code",
   "execution_count": 32,
   "metadata": {},
   "outputs": [],
   "source": [
    "#Distribución_de_los_accesos_totales_nacionales_a_Internet_fijo_por_velocidad"
   ]
  },
  {
   "cell_type": "code",
   "execution_count": 33,
   "metadata": {},
   "outputs": [],
   "source": [
    "#Acceso_a_Internet_Fijo_por_rangos_de_velocidad_de_bajada_y_provincia=pd.read_csv('https://datosabiertos.enacom.gob.ar/rest/datastreams/275026/data.csv')"
   ]
  },
  {
   "cell_type": "code",
   "execution_count": 34,
   "metadata": {},
   "outputs": [],
   "source": [
    "#Acceso_a_Internet_Fijo_por_rangos_de_velocidad_de_bajada_y_provincia"
   ]
  },
  {
   "cell_type": "code",
   "execution_count": 35,
   "metadata": {},
   "outputs": [],
   "source": [
    "#Acceso_a_Internet_Fijo_por_velocidad_de_bajada_y_provincia=pd.read_csv('https://datosabiertos.enacom.gob.ar/rest/datastreams/279174/data.csv')"
   ]
  },
  {
   "cell_type": "code",
   "execution_count": 36,
   "metadata": {},
   "outputs": [],
   "source": [
    "#Acceso_a_Internet_Fijo_por_velocidad_de_bajada_y_provincia"
   ]
  },
  {
   "cell_type": "code",
   "execution_count": 37,
   "metadata": {},
   "outputs": [],
   "source": [
    "#Ingresos_trimestrales_por_la_prestación_del_servicio_de_Internet_fijo=pd.read_csv('https://datosabiertos.enacom.gob.ar/rest/datastreams/275023/data.csv')"
   ]
  },
  {
   "cell_type": "code",
   "execution_count": 38,
   "metadata": {},
   "outputs": [],
   "source": [
    "#Ingresos_trimestrales_por_la_prestación_del_servicio_de_Internet_fijo"
   ]
  },
  {
   "cell_type": "code",
   "execution_count": 39,
   "metadata": {},
   "outputs": [],
   "source": [
    "#Acceso_a_Internet_fijo_por_velocidad_de_bajada_y_localidad=pd.read_csv('https://datosabiertos.enacom.gob.ar/rest/datastreams/277617/data.csv')"
   ]
  },
  {
   "cell_type": "code",
   "execution_count": 40,
   "metadata": {},
   "outputs": [],
   "source": [
    "#Acceso_a_Internet_fijo_por_velocidad_de_bajada_y_localidad"
   ]
  },
  {
   "cell_type": "code",
   "execution_count": 41,
   "metadata": {},
   "outputs": [],
   "source": [
    "#Acceso_a_Internet_fijo_por_tecnologia_y_localidad=pd.read_csv('https://datosabiertos.enacom.gob.ar/rest/datastreams/279175/data.csv')"
   ]
  },
  {
   "cell_type": "code",
   "execution_count": 42,
   "metadata": {},
   "outputs": [],
   "source": [
    "#Acceso_a_Internet_fijo_por_tecnologia_y_localidad"
   ]
  },
  {
   "cell_type": "code",
   "execution_count": 43,
   "metadata": {},
   "outputs": [],
   "source": [
    "Listado_de_localidades_con_conectividad_a_internet=pd.read_csv('https://datosabiertos.enacom.gob.ar/rest/datastreams/275022/data.csv')"
   ]
  },
  {
   "cell_type": "code",
   "execution_count": 44,
   "metadata": {},
   "outputs": [
    {
     "data": {
      "text/html": [
       "<div>\n",
       "<style scoped>\n",
       "    .dataframe tbody tr th:only-of-type {\n",
       "        vertical-align: middle;\n",
       "    }\n",
       "\n",
       "    .dataframe tbody tr th {\n",
       "        vertical-align: top;\n",
       "    }\n",
       "\n",
       "    .dataframe thead th {\n",
       "        text-align: right;\n",
       "    }\n",
       "</style>\n",
       "<table border=\"1\" class=\"dataframe\">\n",
       "  <thead>\n",
       "    <tr style=\"text-align: right;\">\n",
       "      <th></th>\n",
       "      <th>Provincia</th>\n",
       "      <th>Partido</th>\n",
       "      <th>Localidad</th>\n",
       "      <th>ADSL</th>\n",
       "      <th>CABLEMODEM</th>\n",
       "      <th>DIALUP</th>\n",
       "      <th>FIBRAOPTICA</th>\n",
       "      <th>4G</th>\n",
       "      <th>3G</th>\n",
       "      <th>TELEFONIAFIJA</th>\n",
       "      <th>WIRELESS</th>\n",
       "      <th>SATELITAL</th>\n",
       "    </tr>\n",
       "  </thead>\n",
       "  <tbody>\n",
       "    <tr>\n",
       "      <th>0</th>\n",
       "      <td>BUENOS AIRES</td>\n",
       "      <td>25 de Mayo</td>\n",
       "      <td>25 de Mayo</td>\n",
       "      <td>SI</td>\n",
       "      <td>SI</td>\n",
       "      <td>--</td>\n",
       "      <td>SI</td>\n",
       "      <td>SI</td>\n",
       "      <td>SI</td>\n",
       "      <td>SI</td>\n",
       "      <td>SI</td>\n",
       "      <td>SI</td>\n",
       "    </tr>\n",
       "    <tr>\n",
       "      <th>1</th>\n",
       "      <td>BUENOS AIRES</td>\n",
       "      <td>25 de Mayo</td>\n",
       "      <td>Agustín Mosconi</td>\n",
       "      <td>--</td>\n",
       "      <td>--</td>\n",
       "      <td>--</td>\n",
       "      <td>--</td>\n",
       "      <td>--</td>\n",
       "      <td>--</td>\n",
       "      <td>SI</td>\n",
       "      <td>--</td>\n",
       "      <td>--</td>\n",
       "    </tr>\n",
       "    <tr>\n",
       "      <th>2</th>\n",
       "      <td>BUENOS AIRES</td>\n",
       "      <td>25 de Mayo</td>\n",
       "      <td>Del Valle</td>\n",
       "      <td>SI</td>\n",
       "      <td>--</td>\n",
       "      <td>--</td>\n",
       "      <td>--</td>\n",
       "      <td>SI</td>\n",
       "      <td>SI</td>\n",
       "      <td>--</td>\n",
       "      <td>--</td>\n",
       "      <td>SI</td>\n",
       "    </tr>\n",
       "    <tr>\n",
       "      <th>3</th>\n",
       "      <td>BUENOS AIRES</td>\n",
       "      <td>25 de Mayo</td>\n",
       "      <td>Ernestina</td>\n",
       "      <td>SI</td>\n",
       "      <td>--</td>\n",
       "      <td>--</td>\n",
       "      <td>--</td>\n",
       "      <td>--</td>\n",
       "      <td>--</td>\n",
       "      <td>--</td>\n",
       "      <td>--</td>\n",
       "      <td>--</td>\n",
       "    </tr>\n",
       "    <tr>\n",
       "      <th>4</th>\n",
       "      <td>BUENOS AIRES</td>\n",
       "      <td>25 de Mayo</td>\n",
       "      <td>Gobernador Ugarte</td>\n",
       "      <td>--</td>\n",
       "      <td>--</td>\n",
       "      <td>--</td>\n",
       "      <td>--</td>\n",
       "      <td>--</td>\n",
       "      <td>--</td>\n",
       "      <td>--</td>\n",
       "      <td>SI</td>\n",
       "      <td>--</td>\n",
       "    </tr>\n",
       "    <tr>\n",
       "      <th>...</th>\n",
       "      <td>...</td>\n",
       "      <td>...</td>\n",
       "      <td>...</td>\n",
       "      <td>...</td>\n",
       "      <td>...</td>\n",
       "      <td>...</td>\n",
       "      <td>...</td>\n",
       "      <td>...</td>\n",
       "      <td>...</td>\n",
       "      <td>...</td>\n",
       "      <td>...</td>\n",
       "      <td>...</td>\n",
       "    </tr>\n",
       "    <tr>\n",
       "      <th>4307</th>\n",
       "      <td>JUJUY</td>\n",
       "      <td>El Carmen</td>\n",
       "      <td>Los Lapachos (Est. Maquinista Verón)</td>\n",
       "      <td>--</td>\n",
       "      <td>--</td>\n",
       "      <td>--</td>\n",
       "      <td>--</td>\n",
       "      <td>SI</td>\n",
       "      <td>SI</td>\n",
       "      <td>--</td>\n",
       "      <td>SI</td>\n",
       "      <td>--</td>\n",
       "    </tr>\n",
       "    <tr>\n",
       "      <th>4308</th>\n",
       "      <td>JUJUY</td>\n",
       "      <td>El Carmen</td>\n",
       "      <td>Loteo San Vicente</td>\n",
       "      <td>--</td>\n",
       "      <td>--</td>\n",
       "      <td>--</td>\n",
       "      <td>--</td>\n",
       "      <td>SI</td>\n",
       "      <td>--</td>\n",
       "      <td>--</td>\n",
       "      <td>--</td>\n",
       "      <td>--</td>\n",
       "    </tr>\n",
       "    <tr>\n",
       "      <th>4309</th>\n",
       "      <td>JUJUY</td>\n",
       "      <td>El Carmen</td>\n",
       "      <td>Manantiales</td>\n",
       "      <td>--</td>\n",
       "      <td>--</td>\n",
       "      <td>--</td>\n",
       "      <td>--</td>\n",
       "      <td>SI</td>\n",
       "      <td>SI</td>\n",
       "      <td>--</td>\n",
       "      <td>--</td>\n",
       "      <td>SI</td>\n",
       "    </tr>\n",
       "    <tr>\n",
       "      <th>4310</th>\n",
       "      <td>JUJUY</td>\n",
       "      <td>El Carmen</td>\n",
       "      <td>Monterrico</td>\n",
       "      <td>--</td>\n",
       "      <td>SI</td>\n",
       "      <td>--</td>\n",
       "      <td>--</td>\n",
       "      <td>SI</td>\n",
       "      <td>SI</td>\n",
       "      <td>SI</td>\n",
       "      <td>SI</td>\n",
       "      <td>SI</td>\n",
       "    </tr>\n",
       "    <tr>\n",
       "      <th>4311</th>\n",
       "      <td>JUJUY</td>\n",
       "      <td>El Carmen</td>\n",
       "      <td>Pampa Blanca</td>\n",
       "      <td>SI</td>\n",
       "      <td>SI</td>\n",
       "      <td>--</td>\n",
       "      <td>--</td>\n",
       "      <td>SI</td>\n",
       "      <td>SI</td>\n",
       "      <td>SI</td>\n",
       "      <td>SI</td>\n",
       "      <td>SI</td>\n",
       "    </tr>\n",
       "  </tbody>\n",
       "</table>\n",
       "<p>4312 rows × 12 columns</p>\n",
       "</div>"
      ],
      "text/plain": [
       "         Provincia     Partido                             Localidad ADSL  \\\n",
       "0     BUENOS AIRES  25 de Mayo                            25 de Mayo   SI   \n",
       "1     BUENOS AIRES  25 de Mayo                       Agustín Mosconi   --   \n",
       "2     BUENOS AIRES  25 de Mayo                             Del Valle   SI   \n",
       "3     BUENOS AIRES  25 de Mayo                             Ernestina   SI   \n",
       "4     BUENOS AIRES  25 de Mayo                     Gobernador Ugarte   --   \n",
       "...            ...         ...                                   ...  ...   \n",
       "4307         JUJUY   El Carmen  Los Lapachos (Est. Maquinista Verón)   --   \n",
       "4308         JUJUY   El Carmen                     Loteo San Vicente   --   \n",
       "4309         JUJUY   El Carmen                           Manantiales   --   \n",
       "4310         JUJUY   El Carmen                            Monterrico   --   \n",
       "4311         JUJUY   El Carmen                          Pampa Blanca   SI   \n",
       "\n",
       "     CABLEMODEM DIALUP FIBRAOPTICA  4G  3G TELEFONIAFIJA WIRELESS SATELITAL  \n",
       "0            SI     --          SI  SI  SI            SI       SI        SI  \n",
       "1            --     --          --  --  --            SI       --        --  \n",
       "2            --     --          --  SI  SI            --       --        SI  \n",
       "3            --     --          --  --  --            --       --        --  \n",
       "4            --     --          --  --  --            --       SI        --  \n",
       "...         ...    ...         ...  ..  ..           ...      ...       ...  \n",
       "4307         --     --          --  SI  SI            --       SI        --  \n",
       "4308         --     --          --  SI  --            --       --        --  \n",
       "4309         --     --          --  SI  SI            --       --        SI  \n",
       "4310         SI     --          --  SI  SI            SI       SI        SI  \n",
       "4311         SI     --          --  SI  SI            SI       SI        SI  \n",
       "\n",
       "[4312 rows x 12 columns]"
      ]
     },
     "execution_count": 44,
     "metadata": {},
     "output_type": "execute_result"
    }
   ],
   "source": [
    "Listado_de_localidades_con_conectividad_a_internet"
   ]
  },
  {
   "cell_type": "code",
   "execution_count": 45,
   "metadata": {},
   "outputs": [
    {
     "name": "stdout",
     "output_type": "stream",
     "text": [
      "<class 'pandas.core.frame.DataFrame'>\n",
      "RangeIndex: 4312 entries, 0 to 4311\n",
      "Data columns (total 12 columns):\n",
      " #   Column         Non-Null Count  Dtype \n",
      "---  ------         --------------  ----- \n",
      " 0   Provincia      4312 non-null   object\n",
      " 1   Partido        4312 non-null   object\n",
      " 2   Localidad      4312 non-null   object\n",
      " 3   ADSL           4312 non-null   object\n",
      " 4   CABLEMODEM     4312 non-null   object\n",
      " 5   DIALUP         4312 non-null   object\n",
      " 6   FIBRAOPTICA    4312 non-null   object\n",
      " 7   4G             4312 non-null   object\n",
      " 8   3G             4312 non-null   object\n",
      " 9   TELEFONIAFIJA  4312 non-null   object\n",
      " 10  WIRELESS       4312 non-null   object\n",
      " 11  SATELITAL      4312 non-null   object\n",
      "dtypes: object(12)\n",
      "memory usage: 404.4+ KB\n"
     ]
    }
   ],
   "source": [
    "Listado_de_localidades_con_conectividad_a_internet.info()"
   ]
  },
  {
   "cell_type": "code",
   "execution_count": 46,
   "metadata": {},
   "outputs": [
    {
     "data": {
      "text/html": [
       "<div>\n",
       "<style scoped>\n",
       "    .dataframe tbody tr th:only-of-type {\n",
       "        vertical-align: middle;\n",
       "    }\n",
       "\n",
       "    .dataframe tbody tr th {\n",
       "        vertical-align: top;\n",
       "    }\n",
       "\n",
       "    .dataframe thead th {\n",
       "        text-align: right;\n",
       "    }\n",
       "</style>\n",
       "<table border=\"1\" class=\"dataframe\">\n",
       "  <thead>\n",
       "    <tr style=\"text-align: right;\">\n",
       "      <th></th>\n",
       "      <th>Provincia</th>\n",
       "      <th>Partido</th>\n",
       "      <th>Localidad</th>\n",
       "      <th>ADSL</th>\n",
       "      <th>CABLEMODEM</th>\n",
       "      <th>DIALUP</th>\n",
       "      <th>FIBRAOPTICA</th>\n",
       "      <th>4G</th>\n",
       "      <th>3G</th>\n",
       "      <th>TELEFONIAFIJA</th>\n",
       "      <th>WIRELESS</th>\n",
       "      <th>SATELITAL</th>\n",
       "    </tr>\n",
       "  </thead>\n",
       "  <tbody>\n",
       "    <tr>\n",
       "      <th>count</th>\n",
       "      <td>4312</td>\n",
       "      <td>4312</td>\n",
       "      <td>4312</td>\n",
       "      <td>4312</td>\n",
       "      <td>4312</td>\n",
       "      <td>4312</td>\n",
       "      <td>4312</td>\n",
       "      <td>4312</td>\n",
       "      <td>4312</td>\n",
       "      <td>4312</td>\n",
       "      <td>4312</td>\n",
       "      <td>4312</td>\n",
       "    </tr>\n",
       "    <tr>\n",
       "      <th>unique</th>\n",
       "      <td>24</td>\n",
       "      <td>444</td>\n",
       "      <td>3912</td>\n",
       "      <td>2</td>\n",
       "      <td>2</td>\n",
       "      <td>2</td>\n",
       "      <td>2</td>\n",
       "      <td>2</td>\n",
       "      <td>2</td>\n",
       "      <td>2</td>\n",
       "      <td>2</td>\n",
       "      <td>2</td>\n",
       "    </tr>\n",
       "    <tr>\n",
       "      <th>top</th>\n",
       "      <td>BUENOS AIRES</td>\n",
       "      <td>General Roca</td>\n",
       "      <td>San Pedro</td>\n",
       "      <td>--</td>\n",
       "      <td>--</td>\n",
       "      <td>--</td>\n",
       "      <td>--</td>\n",
       "      <td>SI</td>\n",
       "      <td>--</td>\n",
       "      <td>--</td>\n",
       "      <td>--</td>\n",
       "      <td>--</td>\n",
       "    </tr>\n",
       "    <tr>\n",
       "      <th>freq</th>\n",
       "      <td>901</td>\n",
       "      <td>85</td>\n",
       "      <td>12</td>\n",
       "      <td>3163</td>\n",
       "      <td>3461</td>\n",
       "      <td>3916</td>\n",
       "      <td>2991</td>\n",
       "      <td>2574</td>\n",
       "      <td>2432</td>\n",
       "      <td>2226</td>\n",
       "      <td>2167</td>\n",
       "      <td>3314</td>\n",
       "    </tr>\n",
       "  </tbody>\n",
       "</table>\n",
       "</div>"
      ],
      "text/plain": [
       "           Provincia       Partido  Localidad  ADSL CABLEMODEM DIALUP  \\\n",
       "count           4312          4312       4312  4312       4312   4312   \n",
       "unique            24           444       3912     2          2      2   \n",
       "top     BUENOS AIRES  General Roca  San Pedro    --         --     --   \n",
       "freq             901            85         12  3163       3461   3916   \n",
       "\n",
       "       FIBRAOPTICA    4G    3G TELEFONIAFIJA WIRELESS SATELITAL  \n",
       "count         4312  4312  4312          4312     4312      4312  \n",
       "unique           2     2     2             2        2         2  \n",
       "top             --    SI    --            --       --        --  \n",
       "freq          2991  2574  2432          2226     2167      3314  "
      ]
     },
     "execution_count": 46,
     "metadata": {},
     "output_type": "execute_result"
    }
   ],
   "source": [
    "Listado_de_localidades_con_conectividad_a_internet.describe()"
   ]
  },
  {
   "cell_type": "code",
   "execution_count": 47,
   "metadata": {},
   "outputs": [
    {
     "data": {
      "text/plain": [
       "Provincia          24\n",
       "Partido           444\n",
       "Localidad        3912\n",
       "ADSL                2\n",
       "CABLEMODEM          2\n",
       "DIALUP              2\n",
       "FIBRAOPTICA         2\n",
       "4G                  2\n",
       "3G                  2\n",
       "TELEFONIAFIJA       2\n",
       "WIRELESS            2\n",
       "SATELITAL           2\n",
       "dtype: int64"
      ]
     },
     "execution_count": 47,
     "metadata": {},
     "output_type": "execute_result"
    }
   ],
   "source": [
    "Listado_de_localidades_con_conectividad_a_internet.nunique()"
   ]
  },
  {
   "cell_type": "code",
   "execution_count": 48,
   "metadata": {},
   "outputs": [
    {
     "data": {
      "text/plain": [
       "Provincia        0\n",
       "Partido          0\n",
       "Localidad        0\n",
       "ADSL             0\n",
       "CABLEMODEM       0\n",
       "DIALUP           0\n",
       "FIBRAOPTICA      0\n",
       "4G               0\n",
       "3G               0\n",
       "TELEFONIAFIJA    0\n",
       "WIRELESS         0\n",
       "SATELITAL        0\n",
       "dtype: int64"
      ]
     },
     "execution_count": 48,
     "metadata": {},
     "output_type": "execute_result"
    }
   ],
   "source": [
    "Listado_de_localidades_con_conectividad_a_internet.isnull().sum()"
   ]
  },
  {
   "cell_type": "code",
   "execution_count": 49,
   "metadata": {},
   "outputs": [],
   "source": [
    "#Conectividad_al_servicio_de_Internet=pd.read_csv('https://datosabiertos.enacom.gob.ar/rest/datastreams/277615/data.csv')"
   ]
  },
  {
   "cell_type": "code",
   "execution_count": 50,
   "metadata": {},
   "outputs": [],
   "source": [
    "#Conectividad_al_servicio_de_Internet"
   ]
  },
  {
   "attachments": {},
   "cell_type": "markdown",
   "metadata": {},
   "source": [
    "## Conclusiones del EDA\n",
    "- Se extrae los datasets de de la pagina https://datosabiertos.enacom.gob.ar/dashboards/20000/acceso-a-internet/ \n",
    "- De los 16 datasets solo 4 cumplen con los datos que necesito para hacer mis analisis por lo cual desestimo el resto\n",
    "- Se procede a realizar el EDA en aquellos que cumplen con los datos para mis analisis siguientes:\n",
    "    - Aumento y disminucion de la variacion porcentual trimestral del servicio de internet cada 100 hogares por provincia\n",
    "    - Evolucion de utilizacion de fibra optica respecto a otras tecnologias por trimestre en cada provincia\n",
    "    - Evolucion por trimestre de velocidad de bajada por provincia\n",
    "    - Cantidad de municipios cubiertos por 3G y 4G por provincia\n",
    "- Se revisan la cantidad de registro, valores faltantes, distribucion y tipo de datos\n",
    "- Se elimina un resgistro del dataset \"Acceso_a_Internet_fijo_por_tecnología_y_provincia\" ya que solo poseia fecha y trimestre sin el resto de los datos haciendolo inutil para el caso de analisis\n",
    "\n"
   ]
  },
  {
   "attachments": {},
   "cell_type": "markdown",
   "metadata": {},
   "source": [
    "## Procedemos a guardar los archivos CSV que vamos a utilizar para luego impoprtarlos a Power BI"
   ]
  },
  {
   "cell_type": "code",
   "execution_count": 52,
   "metadata": {},
   "outputs": [],
   "source": [
    "Penetración_de_Internet_fijo_cada_100_hogares.to_csv('Datasets/Internet_fijo_cada_100_hogares.csv')"
   ]
  },
  {
   "cell_type": "code",
   "execution_count": 169,
   "metadata": {},
   "outputs": [],
   "source": [
    "Acceso_a_Internet_fijo_por_tecnología_y_provincia.to_csv('Datasets/Acceso_a_Internet_fijo_por_tecnología_y_provincia.csv')"
   ]
  },
  {
   "cell_type": "code",
   "execution_count": 54,
   "metadata": {},
   "outputs": [],
   "source": [
    "Velocidad_Media_de_bajada_de_Internet_fijo_por_provincia.to_csv('Datasets/Velocidad_Media_de_bajada_de_Internet_fijo_por_provincia.csv')"
   ]
  },
  {
   "cell_type": "code",
   "execution_count": 55,
   "metadata": {},
   "outputs": [],
   "source": [
    "Listado_de_localidades_con_conectividad_a_internet.to_csv('Datasets/Listado_de_localidades_con_conectividad_a_internet.csv')"
   ]
  },
  {
   "cell_type": "code",
   "execution_count": null,
   "metadata": {},
   "outputs": [],
   "source": []
  }
 ],
 "metadata": {
  "kernelspec": {
   "display_name": "Python 3",
   "language": "python",
   "name": "python3"
  },
  "language_info": {
   "codemirror_mode": {
    "name": "ipython",
    "version": 3
   },
   "file_extension": ".py",
   "mimetype": "text/x-python",
   "name": "python",
   "nbconvert_exporter": "python",
   "pygments_lexer": "ipython3",
   "version": "3.10.5 (tags/v3.10.5:f377153, Jun  6 2022, 16:14:13) [MSC v.1929 64 bit (AMD64)]"
  },
  "orig_nbformat": 4,
  "vscode": {
   "interpreter": {
    "hash": "270c9063d07a28851ba69880084a5f01ac42db4cf4cee14f4c49c73ecb745236"
   }
  }
 },
 "nbformat": 4,
 "nbformat_minor": 2
}
